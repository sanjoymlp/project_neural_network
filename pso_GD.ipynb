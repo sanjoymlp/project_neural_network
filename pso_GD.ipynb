{
 "cells": [
  {
   "cell_type": "code",
   "execution_count": 1,
   "metadata": {},
   "outputs": [],
   "source": [
    "from __future__ import division \n",
    "import random \n",
    "import math"
   ]
  },
  {
   "cell_type": "code",
   "execution_count": 2,
   "metadata": {},
   "outputs": [],
   "source": [
    "#--- COST FUNCTION \n",
    "# function we are attempting to optimize (minimize) \n",
    "def func1(x):    \n",
    "    total=0    \n",
    "    for i in range(len(x)):        \n",
    "        total+=x[i]**2    \n",
    "        return total"
   ]
  },
  {
   "cell_type": "code",
   "execution_count": 3,
   "metadata": {},
   "outputs": [],
   "source": [
    "class Particle:    \n",
    "    def __init__(self,x0):        \n",
    "        self.position_i=[]          # particle position        \n",
    "        self.velocity_i=[]          # particle velocity        \n",
    "        self.pos_best_i=[]          # best position individual        \n",
    "        self.err_best_i=-1          # best error individual        \n",
    "        self.err_i=-1               # error individual\n",
    "        for i in range(0,num_dimensions):           \n",
    "            self.velocity_i.append(random.uniform(-1,1))            \n",
    "            self.position_i.append(x0[i])\n",
    "    # evaluate current fitness    \n",
    "    def evaluate(self,costFunc):        \n",
    "        self.err_i=costFunc(self.position_i)\n",
    "        # check to see if the current position is an individual best        \n",
    "        if self.err_i < self.err_best_i or self.err_best_i==-1:            \n",
    "            self.pos_best_i=self.position_i            \n",
    "            self.err_best_i=self.err_i\n",
    "     # update new particle velocity    \n",
    "    def update_velocity(self,pos_best_g):        \n",
    "        w=0.5       # constant inertia weight (how much to weigh the previous velocity)        \n",
    "        c1=1        # cognative constant        \n",
    "        c2=2        # social constant\n",
    "        for i in range(0,num_dimensions):            \n",
    "            r1=random.random()            \n",
    "            r2=random.random()\n",
    "            vel_cognitive=c1*r1*(self.pos_best_i[i]-self.position_i[i])            \n",
    "            vel_social=c2*r2*(pos_best_g[i]-self.position_i[i])            \n",
    "            self.velocity_i[i]=w*self.velocity_i[i]+vel_cognitive+vel_social\n",
    " \n",
    "     # update the particle position based off new velocity updates    \n",
    "    def update_position(self,bounds):        \n",
    "        for i in range(0,num_dimensions):            \n",
    "            self.position_i[i]=self.position_i[i]+self.velocity_i[i]\n",
    "            # adjust maximum position if necessary            \n",
    "            if self.position_i[i]>bounds[i][1]:                \n",
    "                self.position_i[i]=bounds[i][1]\n",
    "            # adjust minimum position if neseccary            \n",
    "            if self.position_i[i] < bounds[i][0]:                \n",
    "                self.position_i[i]=bounds[i][0] "
   ]
  },
  {
   "cell_type": "code",
   "execution_count": 4,
   "metadata": {},
   "outputs": [],
   "source": [
    "class PSO():    \n",
    "    def __init__(self,costFunc,x0,bounds,num_particles,maxiter):        \n",
    "        global num_dimensions\n",
    "        num_dimensions=len(x0)        \n",
    "        err_best_g=-1                   \n",
    "        # best error for group        \n",
    "        pos_best_g=[]                   # best position for group\n",
    "        # establish the swarm        \n",
    "        swarm=[]        \n",
    "        for i in range(0,num_particles):            \n",
    "            swarm.append(Particle(x0))\n",
    "        # begin optimization loop        \n",
    "        i=0\n",
    "        while i < maxiter:            \n",
    "            #print i,err_best_g            \n",
    "            # cycle through particles in swarm and evaluate fitness         \n",
    "            for j in range(0,num_particles):                \n",
    "                swarm[j].evaluate(costFunc)\n",
    "                # determine if current particle is the best (globally)                \n",
    "                if swarm[j].err_i < err_best_g or err_best_g == -1:                    \n",
    "                    pos_best_g=list(swarm[j].position_i)                    \n",
    "                    err_best_g=float(swarm[j].err_i)\n",
    "            # cycle through swarm and update velocities and position            \n",
    "            for j in range(0,num_particles):                \n",
    "                swarm[j].update_velocity(pos_best_g)                \n",
    "                swarm[j].update_position(bounds)            \n",
    "                i+=1\n",
    "        # print final results        \n",
    "        print ('FINAL:')        \n",
    "        print (pos_best_g)        \n",
    "        print (err_best_g)\n"
   ]
  },
  {
   "cell_type": "code",
   "execution_count": 5,
   "metadata": {},
   "outputs": [],
   "source": [
    "if __name__ == \"__PSO__\":   \n",
    "    main()\n"
   ]
  },
  {
   "cell_type": "code",
   "execution_count": 6,
   "metadata": {},
   "outputs": [
    {
     "name": "stdout",
     "output_type": "stream",
     "text": [
      "FINAL:\n",
      "[3.90063918385838, 5.049417558955905, 5.73038135392231]\n",
      "15.214986042651368\n"
     ]
    },
    {
     "data": {
      "text/plain": [
       "<__main__.PSO at 0x1c413bf6c88>"
      ]
     },
     "execution_count": 6,
     "metadata": {},
     "output_type": "execute_result"
    }
   ],
   "source": [
    "#--- EXECUTE\n",
    "initial=[5,5,5]               # initial starting location [x1,x2...] \n",
    "bounds=[(-10,10),(-10,10),(-10,10)]  # input bounds [(x1_min,x1_max),(x2_min,x2_max)...] \n",
    "PSO(func1,initial,bounds,num_particles=35,maxiter=90)"
   ]
  },
  {
   "cell_type": "code",
   "execution_count": null,
   "metadata": {},
   "outputs": [],
   "source": []
  }
 ],
 "metadata": {
  "kernelspec": {
   "display_name": "Python 3",
   "language": "python",
   "name": "python3"
  },
  "language_info": {
   "codemirror_mode": {
    "name": "ipython",
    "version": 3
   },
   "file_extension": ".py",
   "mimetype": "text/x-python",
   "name": "python",
   "nbconvert_exporter": "python",
   "pygments_lexer": "ipython3",
   "version": "3.7.4"
  }
 },
 "nbformat": 4,
 "nbformat_minor": 2
}
