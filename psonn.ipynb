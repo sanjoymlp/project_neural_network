{
 "cells": [
  {
   "cell_type": "code",
   "execution_count": 4,
   "metadata": {},
   "outputs": [
    {
     "ename": "ModuleNotFoundError",
     "evalue": "No module named 'pso'",
     "output_type": "error",
     "traceback": [
      "\u001b[1;31m---------------------------------------------------------------------------\u001b[0m",
      "\u001b[1;31mModuleNotFoundError\u001b[0m                       Traceback (most recent call last)",
      "\u001b[1;32m<ipython-input-4-7051ec58cd90>\u001b[0m in \u001b[0;36m<module>\u001b[1;34m\u001b[0m\n\u001b[0;32m      1\u001b[0m \u001b[1;32mimport\u001b[0m \u001b[0mnumpy\u001b[0m \u001b[1;32mas\u001b[0m \u001b[0mnp\u001b[0m\u001b[1;33m\u001b[0m\u001b[1;33m\u001b[0m\u001b[0m\n\u001b[0;32m      2\u001b[0m \u001b[1;32mfrom\u001b[0m \u001b[0mparticle\u001b[0m \u001b[1;32mimport\u001b[0m \u001b[0mParticle\u001b[0m\u001b[1;33m\u001b[0m\u001b[1;33m\u001b[0m\u001b[0m\n\u001b[1;32m----> 3\u001b[1;33m \u001b[1;32mfrom\u001b[0m \u001b[0mpso\u001b[0m \u001b[1;32mimport\u001b[0m \u001b[0mParticleSwarmOptimizer\u001b[0m\u001b[1;33m\u001b[0m\u001b[1;33m\u001b[0m\u001b[0m\n\u001b[0m\u001b[0;32m      4\u001b[0m \u001b[1;32mfrom\u001b[0m \u001b[0mmatplotlib\u001b[0m \u001b[1;32mimport\u001b[0m \u001b[0mpyplot\u001b[0m \u001b[1;32mas\u001b[0m \u001b[0mplt\u001b[0m\u001b[1;33m\u001b[0m\u001b[1;33m\u001b[0m\u001b[0m\n\u001b[0;32m      5\u001b[0m \u001b[1;33m\u001b[0m\u001b[0m\n",
      "\u001b[1;31mModuleNotFoundError\u001b[0m: No module named 'pso'"
     ]
    }
   ],
   "source": [
    "https://github.com/piyush2896/PSO-for-Neural-Nets/blob/master/pso_demo2.py\n",
    "import numpy as np\n",
    "from particle import Particle\n",
    "from pso import ParticleSwarmOptimizer\n",
    "from matplotlib import pyplot as plt\n",
    "    \n",
    "mean_01 = np.array([1.0, 2.0])\n",
    "mean_02 = np.array([-1.0, 4.0])\n",
    "\n",
    "cov_01 = np.array([[1.0, 0.9], [0.9, 2.0]])\n",
    "cov_02 = np.array([[2.0, 0.5], [0.5, 1.0]])\n",
    "\n",
    "ds_01 = np.random.multivariate_normal(mean_01, cov_01, 250)\n",
    "ds_02 = np.random.multivariate_normal(mean_02, cov_02, 250)\n",
    "\n",
    "all_data = np.zeros((500, 3))\n",
    "all_data[:250, :2] = ds_01\n",
    "all_data[250:, :2] = ds_02\n",
    "all_data[250:, -1] = 1\n",
    "\n",
    "np.random.shuffle(all_data)\n",
    "\n",
    "split = int(0.8 * all_data.shape[0])\n",
    "x_train = all_data[:split, :2]\n",
    "x_test = all_data[split:, :2]\n",
    "y_train = all_data[:split, -1]\n",
    "y_test = all_data[split:, -1]\n",
    "\n",
    "def sigmoid(logit):\n",
    "    return 1 / (1 + np.exp(-logit))\n",
    "\n",
    "def fitness(w, X=x_train, y=y_train):\n",
    "    logit  = w[0] * X[:, 0] + w[1] * X[:, 1] + w[2]\n",
    "    preds = sigmoid(logit)\n",
    "\n",
    "    return binary_cross_entropy(y, preds)\n",
    "\n",
    "def binary_cross_entropy(y, y_hat):\n",
    "    left = y * np.log(y_hat + 1e-7)\n",
    "    right = (1 - y) * np.log((1 - y_hat) + 1e-7)\n",
    "    return -np.mean(left + right)\n",
    "\n",
    "pso = ParticleSwarmOptimizer(Particle, 0.1, 0.3, 30, fitness, \n",
    "                             lambda x, y: x<y, n_iter=100,\n",
    "                             dims=3, random=True,\n",
    "                             position_range=(0, 1), velocity_range=(0, 1))\n",
    "pso.optimize()\n",
    "\n",
    "print(pso.gbest, fitness(pso.gbest, x_test, y_test))"
   ]
  },
  {
   "cell_type": "code",
   "execution_count": null,
   "metadata": {},
   "outputs": [],
   "source": []
  },
  {
   "cell_type": "code",
   "execution_count": null,
   "metadata": {},
   "outputs": [],
   "source": []
  }
 ],
 "metadata": {
  "kernelspec": {
   "display_name": "Python 3",
   "language": "python",
   "name": "python3"
  },
  "language_info": {
   "codemirror_mode": {
    "name": "ipython",
    "version": 3
   },
   "file_extension": ".py",
   "mimetype": "text/x-python",
   "name": "python",
   "nbconvert_exporter": "python",
   "pygments_lexer": "ipython3",
   "version": "3.7.4"
  }
 },
 "nbformat": 4,
 "nbformat_minor": 2
}
