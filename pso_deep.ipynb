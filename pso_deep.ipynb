{
 "cells": [
  {
   "cell_type": "code",
   "execution_count": 1,
   "metadata": {},
   "outputs": [],
   "source": [
    "import numpy as np\n",
    "import matplotlib.pyplot as plt\n",
    "from sklearn.datasets import load_iris"
   ]
  },
  {
   "cell_type": "code",
   "execution_count": 2,
   "metadata": {},
   "outputs": [],
   "source": [
    "# Import PySwarms\n",
    "import pyswarms as ps\n",
    "\n",
    "# Some more magic so that the notebook will reload external python modules;\n",
    "# see http://stackoverflow.com/questions/1907993/autoreload-of-modules-in-ipython\n",
    "%load_ext autoreload\n",
    "%autoreload 2"
   ]
  },
  {
   "cell_type": "code",
   "execution_count": 3,
   "metadata": {},
   "outputs": [],
   "source": [
    "# Load the iris dataset\n",
    "data = load_iris()\n",
    "\n",
    "# Store the features as X and the labels as y\n",
    "X = data.data\n",
    "y = data.target"
   ]
  },
  {
   "cell_type": "code",
   "execution_count": 4,
   "metadata": {},
   "outputs": [],
   "source": [
    "#Forward propagation\n",
    "def forward_prop(params):\n",
    "    \"\"\"Forward propagation as objective function\n",
    "\n",
    "    This computes for the forward propagation of the neural network, as\n",
    "    well as the loss. It receives a set of parameters that must be\n",
    "    rolled-back into the corresponding weights and biases.\n",
    "\n",
    "    Inputs\n",
    "    ------\n",
    "    params: np.ndarray\n",
    "        The dimensions should include an unrolled version of the\n",
    "        weights and biases.\n",
    "\n",
    "    Returns\n",
    "    -------\n",
    "    float\n",
    "        The computed negative log-likelihood loss given the parameters\n",
    "    \"\"\"\n",
    "    # Neural network architecture\n",
    "    n_inputs = 4\n",
    "    n_hidden = 20\n",
    "    n_classes = 3\n",
    "\n",
    "    # Roll-back the weights and biases\n",
    "    W1 = params[0:80].reshape((n_inputs,n_hidden))\n",
    "    b1 = params[80:100].reshape((n_hidden,))\n",
    "    W2 = params[100:160].reshape((n_hidden,n_classes))\n",
    "    b2 = params[160:163].reshape((n_classes,))\n",
    "\n",
    "    # Perform forward propagation\n",
    "    z1 = X.dot(W1) + b1  # Pre-activation in Layer 1\n",
    "    a1 = np.tanh(z1)     # Activation in Layer 1\n",
    "    z2 = a1.dot(W2) + b2 # Pre-activation in Layer 2\n",
    "    logits = z2          # Logits for Layer 2\n",
    "\n",
    "    # Compute for the softmax of the logits\n",
    "    exp_scores = np.exp(logits)\n",
    "    probs = exp_scores / np.sum(exp_scores, axis=1, keepdims=True)\n",
    "\n",
    "    # Compute for the negative log likelihood\n",
    "    N = 150 # Number of samples\n",
    "    corect_logprobs = -np.log(probs[range(N), y])\n",
    "    loss = np.sum(corect_logprobs) / N\n",
    "\n",
    "    return loss"
   ]
  },
  {
   "cell_type": "code",
   "execution_count": 5,
   "metadata": {},
   "outputs": [],
   "source": [
    "def f(x):\n",
    "    \"\"\"Higher-level method to do forward_prop in the\n",
    "    whole swarm.\n",
    "\n",
    "    Inputs\n",
    "    ------\n",
    "    x: numpy.ndarray of shape (n_particles, dimensions)\n",
    "        The swarm that will perform the search\n",
    "\n",
    "    Returns\n",
    "    -------\n",
    "    numpy.ndarray of shape (n_particles, )\n",
    "        The computed loss for each particle\n",
    "    \"\"\"\n",
    "    n_particles = x.shape[0]\n",
    "    j = [forward_prop(x[i]) for i in range(n_particles)]\n",
    "    return np.array(j)"
   ]
  },
  {
   "cell_type": "code",
   "execution_count": 6,
   "metadata": {},
   "outputs": [
    {
     "name": "stderr",
     "output_type": "stream",
     "text": [
      "2020-09-02 08:48:40,350 - pyswarms.single.global_best - INFO - Optimize for 1000 iters with {'c1': 0.5, 'c2': 0.3, 'w': 0.9}\n",
      "pyswarms.single.global_best: 100%|█████████████████████████████████████████████████████████|1000/1000, best_cost=0.0261\n",
      "2020-09-02 08:49:21,655 - pyswarms.single.global_best - INFO - Optimization finished | best cost: 0.026050385329677066, best pos: [ 1.84512652e+00  8.16040938e-01  2.08236021e+00 -1.62778288e+00\n",
      "  3.87200472e-01  1.34554588e+00 -1.21407824e+00  1.71041427e+00\n",
      "  1.85329278e+00  8.46285309e-01  1.93866078e+00  3.37995221e+00\n",
      "  2.29956882e+00  5.90186273e-01  4.47782388e-01  1.06935335e+00\n",
      "  1.81449512e+00  6.57206204e-01  8.42610942e-01 -9.77991782e-01\n",
      "  2.82619330e+00  5.83911989e+00 -6.97726538e-03  7.05119537e-01\n",
      "  1.03453410e+00 -2.19690292e+00  1.71607913e-01  1.24464246e+00\n",
      "  1.20164268e+00  7.71601854e-02 -3.91619948e-01  1.05190152e+00\n",
      "  1.35600677e+00 -2.56235042e-01 -4.53650993e+00  6.56604001e-01\n",
      "  8.83758160e-01  1.37543442e+00 -4.30629258e+00 -8.47853909e-01\n",
      "  1.50450216e+00 -2.14026371e+00 -2.50207281e+00  2.21849677e+00\n",
      "  7.72470670e-01 -6.14616412e-01  6.05527619e-01 -1.77433421e+00\n",
      "  4.24764502e-01  4.00509102e-01  1.74815868e+00  8.52346315e-01\n",
      "  3.52169386e+00 -4.94391108e-02  6.94152741e+00  1.71167641e+00\n",
      " -1.23675402e+00  2.10767279e-01  1.21977110e+00  2.41750566e+00\n",
      "  1.93396249e+00  7.65294405e-02 -1.22735605e+00  1.72000434e+00\n",
      "  1.05759404e+00  1.38537319e+00  1.64080604e+00  3.27172930e+00\n",
      " -2.54264497e+00 -1.28836895e+00  5.66545336e+00  6.63246865e-01\n",
      "  1.73597094e+00  1.33404009e+00  1.66824604e+00 -7.27054965e-01\n",
      "  1.56484518e+00  1.62424464e+00  2.75066879e+00  9.02943801e-01\n",
      "  2.30510249e+00  3.31469621e+00  3.79706595e-01  1.88712300e-01\n",
      " -3.73278903e+00  7.28305239e-01 -1.51111521e+00  5.52814769e+00\n",
      "  2.73308538e+00  2.59739656e+00 -2.68596702e+01  2.37573155e+00\n",
      "  1.21891530e+00 -5.37164845e+00  3.39586554e+00  1.43898960e+00\n",
      "  1.09406607e+00 -6.68760306e-01 -1.66668926e+00 -9.93834121e-03\n",
      "  3.69623526e+00  3.02810241e+00  7.19415181e-01 -9.90142206e-02\n",
      "  2.25337060e+00  1.07265202e+00  3.28548710e-01  1.37060895e+01\n",
      "  7.30438696e-01 -2.07038179e+01  1.65852511e+00  1.40422375e+00\n",
      "  1.14033246e+00 -8.06421185e-01 -4.36831585e+00  9.27386029e-01\n",
      "  2.47698106e+00  4.15149770e+00  2.13595671e+00  1.00521210e+00\n",
      "  1.47022931e+00  3.98076491e-01  1.46393788e+00  3.50497809e-01\n",
      "  1.32919720e+00 -3.47298694e-01  1.29511198e+00  9.42910236e-01\n",
      "  1.52576817e+00  3.02040693e-01  2.02261459e+00  2.57350988e+00\n",
      " -1.85603206e-01  1.47957704e+00  3.69342127e+00  6.30550954e-01\n",
      " -1.09620697e+00 -3.46242662e-01  2.34750457e-01 -6.03708002e+00\n",
      " -1.01122107e+01  1.49530606e+00  6.79655222e-01 -8.55110493e-01\n",
      "  2.89148336e-01  2.11449883e+00 -1.95111599e+00  4.17765515e-01\n",
      "  1.16782853e+00  1.51630567e+00  3.67122138e-01  2.22739258e+00\n",
      "  2.89718467e+00  1.44514228e+00 -2.33286649e+00  7.55558107e-01\n",
      "  8.92048146e+00 -1.56316548e+00  3.20249125e+00  7.49538556e-01\n",
      "  5.20480287e-01  3.12271030e-01  2.10738227e+00]\n"
     ]
    }
   ],
   "source": [
    "# Initialize swarm\n",
    "options = {'c1': 0.5, 'c2': 0.3, 'w':0.9}\n",
    "\n",
    "# Call instance of PSO\n",
    "dimensions = (4 * 20) + (20 * 3) + 20 + 3\n",
    "optimizer = ps.single.GlobalBestPSO(n_particles=100, dimensions=dimensions, options=options)\n",
    "\n",
    "# Perform optimization\n",
    "cost, pos = optimizer.optimize(f,  iters=1000)"
   ]
  },
  {
   "cell_type": "code",
   "execution_count": 7,
   "metadata": {},
   "outputs": [],
   "source": [
    "def predict(X, pos):\n",
    "    \"\"\"\n",
    "    Use the trained weights to perform class predictions.\n",
    "\n",
    "    Inputs\n",
    "    ------\n",
    "    X: numpy.ndarray\n",
    "        Input Iris dataset\n",
    "    pos: numpy.ndarray\n",
    "        Position matrix found by the swarm. Will be rolled\n",
    "        into weights and biases.\n",
    "    \"\"\"\n",
    "    # Neural network architecture\n",
    "    n_inputs = 4\n",
    "    n_hidden = 20\n",
    "    n_classes = 3\n",
    "\n",
    "    # Roll-back the weights and biases\n",
    "    W1 = pos[0:80].reshape((n_inputs,n_hidden))\n",
    "    b1 = pos[80:100].reshape((n_hidden,))\n",
    "    W2 = pos[100:160].reshape((n_hidden,n_classes))\n",
    "    b2 = pos[160:163].reshape((n_classes,))\n",
    "\n",
    "    # Perform forward propagation\n",
    "    z1 = X.dot(W1) + b1  # Pre-activation in Layer 1\n",
    "    a1 = np.tanh(z1)     # Activation in Layer 1\n",
    "    z2 = a1.dot(W2) + b2 # Pre-activation in Layer 2\n",
    "    logits = z2          # Logits for Layer 2\n",
    "\n",
    "    y_pred = np.argmax(logits, axis=1)\n",
    "    return y_pred"
   ]
  },
  {
   "cell_type": "code",
   "execution_count": 8,
   "metadata": {},
   "outputs": [
    {
     "data": {
      "text/plain": [
       "0.9933333333333333"
      ]
     },
     "execution_count": 8,
     "metadata": {},
     "output_type": "execute_result"
    }
   ],
   "source": [
    "(predict(X, pos) == y).mean()"
   ]
  },
  {
   "cell_type": "code",
   "execution_count": null,
   "metadata": {},
   "outputs": [],
   "source": []
  }
 ],
 "metadata": {
  "kernelspec": {
   "display_name": "Python 3",
   "language": "python",
   "name": "python3"
  },
  "language_info": {
   "codemirror_mode": {
    "name": "ipython",
    "version": 3
   },
   "file_extension": ".py",
   "mimetype": "text/x-python",
   "name": "python",
   "nbconvert_exporter": "python",
   "pygments_lexer": "ipython3",
   "version": "3.7.4"
  }
 },
 "nbformat": 4,
 "nbformat_minor": 2
}
